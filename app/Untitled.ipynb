{
 "cells": [
  {
   "cell_type": "code",
   "execution_count": 1,
   "metadata": {},
   "outputs": [
    {
     "name": "stdout",
     "output_type": "stream",
     "text": [
      "16\n"
     ]
    }
   ],
   "source": [
    "x = lambda a,b: a*b\n",
    "print(x(4,4))"
   ]
  },
  {
   "cell_type": "code",
   "execution_count": 2,
   "metadata": {},
   "outputs": [
    {
     "name": "stdout",
     "output_type": "stream",
     "text": [
      "hola a todos\n"
     ]
    }
   ],
   "source": [
    "print('hola a todos')"
   ]
  },
  {
   "cell_type": "code",
   "execution_count": 4,
   "metadata": {},
   "outputs": [
    {
     "name": "stdout",
     "output_type": "stream",
     "text": [
      "total 212\r\n",
      "drwxr-xr-x 6 royer01 royer01   4096 Jul 15 00:28 .\r\n",
      "drwxrwxr-x 7 royer01 royer01   4096 Jul  4 11:14 ..\r\n",
      "drwxr-xr-x 2 royer01 royer01   4096 Jul 15 00:26 .ipynb_checkpoints\r\n",
      "-rw-r--r-- 1 royer01 royer01    197 Jul 13 19:41 Dockerfile\r\n",
      "-rw-r--r-- 1 royer01 royer01   1081 Jul 15 00:28 Untitled.ipynb\r\n",
      "drwxr-xr-x 2 royer01 royer01   4096 Jul  4 12:14 __pycache__\r\n",
      "-rw-r--r-- 1 royer01 royer01  11006 Jun 30 12:11 bar.png\r\n",
      "-rw-r--r-- 1 royer01 royer01    517 Jul 13 21:35 charts.py\r\n",
      "-rw-r--r-- 1 royer01 royer01    106 Jul 13 21:33 docker-compose.yml\r\n",
      "drwxr-xr-x 6 royer01 royer01   4096 Jul  2 16:42 env\r\n",
      "-rw-r--r-- 1 royer01 royer01    682 Jun 30 12:01 example.py\r\n",
      "drwxr-xr-x 2 royer01 royer01   4096 Jul  2 14:04 imgs\r\n",
      "-rw-r--r-- 1 royer01 royer01   1195 Jul  4 12:16 main.py\r\n",
      "-rw-r--r-- 1 royer01 royer01    386 Jul 14 23:32 material_icon.ipynb\r\n",
      "-rw-r--r-- 1 royer01 royer01 106059 Jul  4 12:16 pie.png\r\n",
      "-rw-r--r-- 1 royer01 royer01    589 Jul  4 12:14 read_csv.py\r\n",
      "-rw-r--r-- 1 royer01 royer01    266 Jul  4 11:51 requirements.txt\r\n",
      "-rw-r--r-- 1 royer01 royer01    698 Jun 30 12:01 utils.py\r\n",
      "-rw-r--r-- 1 royer01 royer01  29023 Jun 30 12:01 world_data.csv\r\n"
     ]
    }
   ],
   "source": [
    "!ls -la"
   ]
  },
  {
   "cell_type": "code",
   "execution_count": 5,
   "metadata": {},
   "outputs": [
    {
     "name": "stdout",
     "output_type": "stream",
     "text": [
      "On branch main\r\n",
      "Untracked files:\r\n",
      "  (use \"git add <file>...\" to include in what will be committed)\r\n",
      "\t\u001b[31mUntitled.ipynb\u001b[m\r\n",
      "\t\u001b[31mmaterial_icon.ipynb\u001b[m\r\n",
      "\r\n",
      "nothing added to commit but untracked files present (use \"git add\" to track)\r\n"
     ]
    }
   ],
   "source": [
    "!git status"
   ]
  },
  {
   "cell_type": "code",
   "execution_count": 8,
   "metadata": {},
   "outputs": [],
   "source": [
    "!git diff"
   ]
  },
  {
   "cell_type": "code",
   "execution_count": null,
   "metadata": {},
   "outputs": [],
   "source": []
  },
  {
   "cell_type": "code",
   "execution_count": null,
   "metadata": {},
   "outputs": [],
   "source": []
  },
  {
   "cell_type": "code",
   "execution_count": null,
   "metadata": {},
   "outputs": [],
   "source": []
  }
 ],
 "metadata": {
  "kernelspec": {
   "display_name": "Python 3",
   "language": "python",
   "name": "python3"
  },
  "language_info": {
   "codemirror_mode": {
    "name": "ipython",
    "version": 3
   },
   "file_extension": ".py",
   "mimetype": "text/x-python",
   "name": "python",
   "nbconvert_exporter": "python",
   "pygments_lexer": "ipython3",
   "version": "3.8.10"
  }
 },
 "nbformat": 4,
 "nbformat_minor": 4
}
